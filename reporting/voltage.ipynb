{
 "cells": [
  {
   "cell_type": "code",
   "execution_count": 105,
   "id": "cc3782b3",
   "metadata": {},
   "outputs": [],
   "source": [
    "import os\n",
    "import random\n",
    "\n",
    "import ipywidgets as widgets\n",
    "from ipywidgets import interact, interact_manual\n",
    "import matplotlib.pyplot as plt\n",
    "import pandas as pd"
   ]
  },
  {
   "cell_type": "markdown",
   "id": "2e278928",
   "metadata": {},
   "source": [
    "## Get Data Streams"
   ]
  },
  {
   "cell_type": "code",
   "execution_count": 106,
   "id": "3ea7fb36",
   "metadata": {},
   "outputs": [],
   "source": [
    "DATE = \"20221213\"\n",
    "DATA_ROOT = f\"/Users/mauricio/Documents/development/projects/tides_logs/{DATE}/\"\n",
    "\n",
    "file_list = os.listdir(DATA_ROOT)\n",
    "file_list.sort()\n",
    "file_groups = {}\n",
    "\n",
    "for file in file_list:\n",
    "    file_group = file.split(\"_\")[0]\n",
    "    if file_group not in file_groups:\n",
    "        file_groups[file_group] = []\n",
    "    file_groups[file_group].append(file)\n",
    "\n",
    "sensor_data = {}\n",
    "\n",
    "for file_group in file_groups:\n",
    "    files = file_groups[file_group]\n",
    "    for file in files:\n",
    "        f = open(os.path.join(DATA_ROOT, file),\"r\")\n",
    "        lines = list(filter(lambda x: \"Voltage\" in x, f.readlines()))\n",
    "        if file_group not in sensor_data:\n",
    "            sensor_data[file_group] = []\n",
    "        sensor_data[file_group].extend(lines)\n",
    "        \n",
    "\n",
    "charger_data = {}\n",
    "\n",
    "for file_group in file_groups:\n",
    "    files = file_groups[file_group]\n",
    "    for file in files:\n",
    "        f = open(os.path.join(DATA_ROOT, file),\"r\")\n",
    "        lines = list(filter(lambda x: \" charger \" in x and \" charger = \" not in x, f.readlines()))\n",
    "        if file_group not in charger_data:\n",
    "            charger_data[file_group] = []\n",
    "        charger_data[file_group].extend(lines)\n",
    "        "
   ]
  },
  {
   "cell_type": "code",
   "execution_count": 128,
   "id": "8f2df292",
   "metadata": {},
   "outputs": [],
   "source": [
    "sensor_obs = list(map(lambda x: (x.replace(\"\\n\", \"\").split(\" Voltage: \")[0], x.replace(\"\\n\", \"\").split(\" Voltage: \")[1]), sensor_data[\"tides\"]))\n",
    "charger_obs = list(map(lambda x: (x.replace(\"\\n\", \"\").split(\" charger \")[0], x.replace(\"off\\n\", \"0\").replace(\"on\\n\", \"1\").split(\" charger \")[1]), charger_data[\"tides\"]))\n"
   ]
  },
  {
   "cell_type": "code",
   "execution_count": 129,
   "id": "43337926",
   "metadata": {},
   "outputs": [],
   "source": [
    "dfv = pd.DataFrame(sensor_obs, columns=[\"date\", \"voltage\"])\n",
    "dfv[\"date\"] = dfv[\"date\"].apply(pd.to_datetime)\n",
    "dfv[\"voltage\"] = dfv[\"voltage\"].apply(float)\n",
    "dfv = dfv.sort_values(\"date\").reset_index(drop=True)\n",
    "dfv.to_csv(f\"~/Documents/development/projects/tides_logs/{DATE}/voltage.csv\")"
   ]
  },
  {
   "cell_type": "code",
   "execution_count": 130,
   "id": "43149c5f",
   "metadata": {},
   "outputs": [],
   "source": [
    "dfc = pd.DataFrame(charger_obs, columns=[\"date\", \"charger\"])\n",
    "dfc[\"date\"] = dfc[\"date\"].apply(pd.to_datetime)\n",
    "dfc[\"charger\"] = dfc[\"charger\"].apply(float) + 25\n",
    "dfc = dfc.sort_values(\"date\").reset_index(drop=True)\n",
    "dfc.to_csv(f\"~/Documents/development/projects/tides_logs/{DATE}/charger.csv\")"
   ]
  },
  {
   "cell_type": "code",
   "execution_count": 131,
   "id": "dc8a3dfd",
   "metadata": {},
   "outputs": [],
   "source": [
    "merged = pd.merge_ordered(dfc, dfv, fill_method=\"ffill\")"
   ]
  },
  {
   "cell_type": "code",
   "execution_count": 132,
   "id": "dec9dc1c",
   "metadata": {},
   "outputs": [
    {
     "data": {
      "image/png": "[encoded data removed]",
      "text/plain": [
       "<Figure size 432x288 with 1 Axes>"
      ]
     },
     "metadata": {
      "needs_background": "light"
     },
     "output_type": "display_data"
    }
   ],
   "source": [
    "ax = merged.plot(x=\"date\", y=[\"voltage\", \"charger\"])\n",
    "#dfc.plot(ax=ax, x=\"date\", y=\"charger\")\n",
    "\n",
    "plt.show()\n"
   ]
  },
  {
   "cell_type": "code",
   "execution_count": 118,
   "id": "7e040787",
   "metadata": {},
   "outputs": [
    {
     "data": {
      "text/html": [
       "<div>\n",
       "<style scoped>\n",
       "    .dataframe tbody tr th:only-of-type {\n",
       "        vertical-align: middle;\n",
       "    }\n",
       "\n",
       "    .dataframe tbody tr th {\n",
       "        vertical-align: top;\n",
       "    }\n",
       "\n",
       "    .dataframe thead th {\n",
       "        text-align: right;\n",
       "    }\n",
       "</style>\n",
       "<table border=\"1\" class=\"dataframe\">\n",
       "  <thead>\n",
       "    <tr style=\"text-align: right;\">\n",
       "      <th></th>\n",
       "      <th>date</th>\n",
       "      <th>charger</th>\n",
       "      <th>voltage</th>\n",
       "    </tr>\n",
       "  </thead>\n",
       "  <tbody>\n",
       "    <tr>\n",
       "      <th>0</th>\n",
       "      <td>2022-12-02 20:57:36.350</td>\n",
       "      <td>NaN</td>\n",
       "      <td>28.2</td>\n",
       "    </tr>\n",
       "    <tr>\n",
       "      <th>1</th>\n",
       "      <td>2022-12-02 20:58:38.458</td>\n",
       "      <td>NaN</td>\n",
       "      <td>28.1</td>\n",
       "    </tr>\n",
       "    <tr>\n",
       "      <th>2</th>\n",
       "      <td>2022-12-02 20:59:40.551</td>\n",
       "      <td>NaN</td>\n",
       "      <td>28.2</td>\n",
       "    </tr>\n",
       "    <tr>\n",
       "      <th>3</th>\n",
       "      <td>2022-12-02 21:00:42.652</td>\n",
       "      <td>NaN</td>\n",
       "      <td>28.2</td>\n",
       "    </tr>\n",
       "    <tr>\n",
       "      <th>4</th>\n",
       "      <td>2022-12-02 21:01:44.736</td>\n",
       "      <td>NaN</td>\n",
       "      <td>28.2</td>\n",
       "    </tr>\n",
       "    <tr>\n",
       "      <th>...</th>\n",
       "      <td>...</td>\n",
       "      <td>...</td>\n",
       "      <td>...</td>\n",
       "    </tr>\n",
       "    <tr>\n",
       "      <th>6079</th>\n",
       "      <td>2022-12-14 03:22:04.394</td>\n",
       "      <td>NaN</td>\n",
       "      <td>27.4</td>\n",
       "    </tr>\n",
       "    <tr>\n",
       "      <th>6080</th>\n",
       "      <td>2022-12-14 03:25:10.680</td>\n",
       "      <td>NaN</td>\n",
       "      <td>27.4</td>\n",
       "    </tr>\n",
       "    <tr>\n",
       "      <th>6081</th>\n",
       "      <td>2022-12-14 03:28:16.954</td>\n",
       "      <td>NaN</td>\n",
       "      <td>27.4</td>\n",
       "    </tr>\n",
       "    <tr>\n",
       "      <th>6082</th>\n",
       "      <td>2022-12-14 03:31:23.264</td>\n",
       "      <td>NaN</td>\n",
       "      <td>27.4</td>\n",
       "    </tr>\n",
       "    <tr>\n",
       "      <th>6083</th>\n",
       "      <td>2022-12-14 03:34:29.547</td>\n",
       "      <td>NaN</td>\n",
       "      <td>27.4</td>\n",
       "    </tr>\n",
       "  </tbody>\n",
       "</table>\n",
       "<p>6084 rows × 3 columns</p>\n",
       "</div>"
      ],
      "text/plain": [
       "                        date  charger  voltage\n",
       "0    2022-12-02 20:57:36.350      NaN     28.2\n",
       "1    2022-12-02 20:58:38.458      NaN     28.1\n",
       "2    2022-12-02 20:59:40.551      NaN     28.2\n",
       "3    2022-12-02 21:00:42.652      NaN     28.2\n",
       "4    2022-12-02 21:01:44.736      NaN     28.2\n",
       "...                      ...      ...      ...\n",
       "6079 2022-12-14 03:22:04.394      NaN     27.4\n",
       "6080 2022-12-14 03:25:10.680      NaN     27.4\n",
       "6081 2022-12-14 03:28:16.954      NaN     27.4\n",
       "6082 2022-12-14 03:31:23.264      NaN     27.4\n",
       "6083 2022-12-14 03:34:29.547      NaN     27.4\n",
       "\n",
       "[6084 rows x 3 columns]"
      ]
     },
     "execution_count": 118,
     "metadata": {},
     "output_type": "execute_result"
    }
   ],
   "source": [
    "merged"
   ]
  },
  {
   "cell_type": "markdown",
   "id": "884be7a0",
   "metadata": {},
   "source": [
    "## Generate Sample Position Data"
   ]
  },
  {
   "cell_type": "code",
   "execution_count": 13,
   "id": "bc8325ac",
   "metadata": {},
   "outputs": [
    {
     "ename": "KeyError",
     "evalue": "'positions'",
     "output_type": "error",
     "traceback": [
      "\u001b[0;31m---------------------------------------------------------------------------\u001b[0m",
      "\u001b[0;31mKeyError\u001b[0m                                  Traceback (most recent call last)",
      "\u001b[0;32m/var/folders/_9/60l6wmv522q1shh1x1kctt380000gn/T/ipykernel_14201/782291004.py\u001b[0m in \u001b[0;36m<module>\u001b[0;34m\u001b[0m\n\u001b[1;32m      1\u001b[0m \u001b[0minitial\u001b[0m \u001b[0;34m=\u001b[0m \u001b[0;36m0.0\u001b[0m\u001b[0;34m\u001b[0m\u001b[0;34m\u001b[0m\u001b[0m\n\u001b[1;32m      2\u001b[0m \u001b[0msample\u001b[0m \u001b[0;34m=\u001b[0m \u001b[0;34m[\u001b[0m\u001b[0;34m]\u001b[0m\u001b[0;34m\u001b[0m\u001b[0;34m\u001b[0m\u001b[0m\n\u001b[0;32m----> 3\u001b[0;31m \u001b[0;32mfor\u001b[0m \u001b[0mi\u001b[0m \u001b[0;32min\u001b[0m \u001b[0mrange\u001b[0m\u001b[0;34m(\u001b[0m\u001b[0msensor_data\u001b[0m\u001b[0;34m[\u001b[0m\u001b[0;34m\"positions\"\u001b[0m\u001b[0;34m]\u001b[0m\u001b[0;34m[\u001b[0m\u001b[0;34m\"lat\"\u001b[0m\u001b[0;34m]\u001b[0m\u001b[0;34m.\u001b[0m\u001b[0mshape\u001b[0m\u001b[0;34m[\u001b[0m\u001b[0;36m0\u001b[0m\u001b[0;34m]\u001b[0m\u001b[0;34m)\u001b[0m\u001b[0;34m:\u001b[0m\u001b[0;34m\u001b[0m\u001b[0;34m\u001b[0m\u001b[0m\n\u001b[0m\u001b[1;32m      4\u001b[0m     \u001b[0msample\u001b[0m\u001b[0;34m.\u001b[0m\u001b[0mappend\u001b[0m\u001b[0;34m(\u001b[0m\u001b[0minitial\u001b[0m\u001b[0;34m)\u001b[0m\u001b[0;34m\u001b[0m\u001b[0;34m\u001b[0m\u001b[0m\n\u001b[1;32m      5\u001b[0m     \u001b[0minitial\u001b[0m \u001b[0;34m=\u001b[0m \u001b[0minitial\u001b[0m \u001b[0;34m+\u001b[0m \u001b[0mrandom\u001b[0m\u001b[0;34m.\u001b[0m\u001b[0mrandrange\u001b[0m\u001b[0;34m(\u001b[0m\u001b[0;34m-\u001b[0m\u001b[0;36m1.0\u001b[0m\u001b[0;34m,\u001b[0m \u001b[0;36m1.0\u001b[0m\u001b[0;34m)\u001b[0m\u001b[0;34m\u001b[0m\u001b[0;34m\u001b[0m\u001b[0m\n",
      "\u001b[0;31mKeyError\u001b[0m: 'positions'"
     ]
    }
   ],
   "source": [
    "initial = 0.0\n",
    "sample = []\n",
    "for i in range(sensor_data[\"positions\"][\"lat\"].shape[0]):\n",
    "    sample.append(initial)\n",
    "    initial = initial + random.randrange(-1.0, 1.0)\n",
    "sensor_data[\"positions\"][\"lat\"] = sensor_data[\"positions\"][\"lat\"] + sample\n",
    "initial = 0.0\n",
    "sample = []\n",
    "for i in range(sensor_data[\"positions\"][\"lat\"].shape[0]):\n",
    "    sample.append(initial)\n",
    "    initial = initial + random.randrange(-1.0, 1.0)\n",
    "sensor_data[\"positions\"][\"lon\"] = sensor_data[\"positions\"][\"lon\"] + sample"
   ]
  },
  {
   "cell_type": "markdown",
   "id": "592ad59d",
   "metadata": {},
   "source": [
    "## Plot Results"
   ]
  },
  {
   "cell_type": "code",
   "execution_count": 27,
   "id": "cdd6df98",
   "metadata": {},
   "outputs": [
    {
     "ename": "KeyboardInterrupt",
     "evalue": "",
     "output_type": "error",
     "traceback": [
      "\u001b[0;31m---------------------------------------------------------------------------\u001b[0m",
      "\u001b[0;31mKeyboardInterrupt\u001b[0m                         Traceback (most recent call last)",
      "\u001b[0;32m/var/folders/_9/60l6wmv522q1shh1x1kctt380000gn/T/ipykernel_35376/1131335262.py\u001b[0m in \u001b[0;36m<module>\u001b[0;34m\u001b[0m\n\u001b[1;32m     22\u001b[0m \u001b[0;34m\u001b[0m\u001b[0m\n\u001b[1;32m     23\u001b[0m \u001b[0;34m@\u001b[0m\u001b[0minteract\u001b[0m\u001b[0;34m\u001b[0m\u001b[0;34m\u001b[0m\u001b[0m\n\u001b[0;32m---> 24\u001b[0;31m \u001b[0;32mdef\u001b[0m \u001b[0mslice_sensor_data\u001b[0m\u001b[0;34m(\u001b[0m\u001b[0mstart\u001b[0m\u001b[0;34m=\u001b[0m\u001b[0msensor_data\u001b[0m\u001b[0;34m[\u001b[0m\u001b[0;34m\"pressure\"\u001b[0m\u001b[0;34m]\u001b[0m\u001b[0;34m.\u001b[0m\u001b[0mindex\u001b[0m\u001b[0;34m,\u001b[0m \u001b[0mend\u001b[0m\u001b[0;34m=\u001b[0m\u001b[0msensor_data\u001b[0m\u001b[0;34m[\u001b[0m\u001b[0;34m\"pressure\"\u001b[0m\u001b[0;34m]\u001b[0m\u001b[0;34m.\u001b[0m\u001b[0mindex\u001b[0m\u001b[0;34m)\u001b[0m\u001b[0;34m:\u001b[0m\u001b[0;34m\u001b[0m\u001b[0;34m\u001b[0m\u001b[0m\n\u001b[0m\u001b[1;32m     25\u001b[0m     \u001b[0mdisplay_sensor_data\u001b[0m\u001b[0;34m(\u001b[0m\u001b[0mstart\u001b[0m\u001b[0;34m,\u001b[0m \u001b[0mend\u001b[0m\u001b[0;34m)\u001b[0m\u001b[0;34m\u001b[0m\u001b[0;34m\u001b[0m\u001b[0m\n\u001b[1;32m     26\u001b[0m \u001b[0;34m\u001b[0m\u001b[0m\n",
      "\u001b[0;32m~/.pyenv/versions/3.8.10/lib/python3.8/site-packages/ipywidgets/widgets/interaction.py\u001b[0m in \u001b[0;36m__call__\u001b[0;34m(self, _InteractFactory__interact_f, **kwargs)\u001b[0m\n\u001b[1;32m    527\u001b[0m         \u001b[0;31m#    def f(*args, **kwargs):\u001b[0m\u001b[0;34m\u001b[0m\u001b[0;34m\u001b[0m\u001b[0;34m\u001b[0m\u001b[0m\n\u001b[1;32m    528\u001b[0m         \u001b[0;31m#        ...\u001b[0m\u001b[0;34m\u001b[0m\u001b[0;34m\u001b[0m\u001b[0;34m\u001b[0m\u001b[0m\n\u001b[0;32m--> 529\u001b[0;31m         \u001b[0mw\u001b[0m \u001b[0;34m=\u001b[0m \u001b[0mself\u001b[0m\u001b[0;34m.\u001b[0m\u001b[0mwidget\u001b[0m\u001b[0;34m(\u001b[0m\u001b[0mf\u001b[0m\u001b[0;34m)\u001b[0m\u001b[0;34m\u001b[0m\u001b[0;34m\u001b[0m\u001b[0m\n\u001b[0m\u001b[1;32m    530\u001b[0m         \u001b[0;32mtry\u001b[0m\u001b[0;34m:\u001b[0m\u001b[0;34m\u001b[0m\u001b[0;34m\u001b[0m\u001b[0m\n\u001b[1;32m    531\u001b[0m             \u001b[0mf\u001b[0m\u001b[0;34m.\u001b[0m\u001b[0mwidget\u001b[0m \u001b[0;34m=\u001b[0m \u001b[0mw\u001b[0m\u001b[0;34m\u001b[0m\u001b[0;34m\u001b[0m\u001b[0m\n",
      "\u001b[0;32m~/.pyenv/versions/3.8.10/lib/python3.8/site-packages/ipywidgets/widgets/interaction.py\u001b[0m in \u001b[0;36mwidget\u001b[0;34m(self, f)\u001b[0m\n\u001b[1;32m    443\u001b[0m             \u001b[0mThe\u001b[0m \u001b[0mfunction\u001b[0m \u001b[0mto\u001b[0m \u001b[0mwhich\u001b[0m \u001b[0mthe\u001b[0m \u001b[0minteractive\u001b[0m \u001b[0mwidgets\u001b[0m \u001b[0mare\u001b[0m \u001b[0mtied\u001b[0m\u001b[0;34m.\u001b[0m\u001b[0;34m\u001b[0m\u001b[0;34m\u001b[0m\u001b[0m\n\u001b[1;32m    444\u001b[0m         \"\"\"\n\u001b[0;32m--> 445\u001b[0;31m         \u001b[0;32mreturn\u001b[0m \u001b[0mself\u001b[0m\u001b[0;34m.\u001b[0m\u001b[0mcls\u001b[0m\u001b[0;34m(\u001b[0m\u001b[0mf\u001b[0m\u001b[0;34m,\u001b[0m \u001b[0mself\u001b[0m\u001b[0;34m.\u001b[0m\u001b[0mopts\u001b[0m\u001b[0;34m,\u001b[0m \u001b[0;34m**\u001b[0m\u001b[0mself\u001b[0m\u001b[0;34m.\u001b[0m\u001b[0mkwargs\u001b[0m\u001b[0;34m)\u001b[0m\u001b[0;34m\u001b[0m\u001b[0;34m\u001b[0m\u001b[0m\n\u001b[0m\u001b[1;32m    446\u001b[0m \u001b[0;34m\u001b[0m\u001b[0m\n\u001b[1;32m    447\u001b[0m     \u001b[0;32mdef\u001b[0m \u001b[0m__call__\u001b[0m\u001b[0;34m(\u001b[0m\u001b[0mself\u001b[0m\u001b[0;34m,\u001b[0m \u001b[0m__interact_f\u001b[0m\u001b[0;34m=\u001b[0m\u001b[0;32mNone\u001b[0m\u001b[0;34m,\u001b[0m \u001b[0;34m**\u001b[0m\u001b[0mkwargs\u001b[0m\u001b[0;34m)\u001b[0m\u001b[0;34m:\u001b[0m\u001b[0;34m\u001b[0m\u001b[0;34m\u001b[0m\u001b[0m\n",
      "\u001b[0;32m~/.pyenv/versions/3.8.10/lib/python3.8/site-packages/ipywidgets/widgets/interaction.py\u001b[0m in \u001b[0;36m__init__\u001b[0;34m(self, _interactive__interact_f, _interactive__options, **kwargs)\u001b[0m\n\u001b[1;32m    199\u001b[0m             \u001b[0mgetcallargs\u001b[0m\u001b[0;34m(\u001b[0m\u001b[0mf\u001b[0m\u001b[0;34m,\u001b[0m \u001b[0;34m**\u001b[0m\u001b[0;34m{\u001b[0m\u001b[0mn\u001b[0m\u001b[0;34m:\u001b[0m\u001b[0mv\u001b[0m \u001b[0;32mfor\u001b[0m \u001b[0mn\u001b[0m\u001b[0;34m,\u001b[0m\u001b[0mv\u001b[0m\u001b[0;34m,\u001b[0m\u001b[0m_\u001b[0m \u001b[0;32min\u001b[0m \u001b[0mnew_kwargs\u001b[0m\u001b[0;34m}\u001b[0m\u001b[0;34m)\u001b[0m\u001b[0;34m\u001b[0m\u001b[0;34m\u001b[0m\u001b[0m\n\u001b[1;32m    200\u001b[0m         \u001b[0;31m# Now build the widgets from the abbreviations.\u001b[0m\u001b[0;34m\u001b[0m\u001b[0;34m\u001b[0m\u001b[0;34m\u001b[0m\u001b[0m\n\u001b[0;32m--> 201\u001b[0;31m         \u001b[0mself\u001b[0m\u001b[0;34m.\u001b[0m\u001b[0mkwargs_widgets\u001b[0m \u001b[0;34m=\u001b[0m \u001b[0mself\u001b[0m\u001b[0;34m.\u001b[0m\u001b[0mwidgets_from_abbreviations\u001b[0m\u001b[0;34m(\u001b[0m\u001b[0mnew_kwargs\u001b[0m\u001b[0;34m)\u001b[0m\u001b[0;34m\u001b[0m\u001b[0;34m\u001b[0m\u001b[0m\n\u001b[0m\u001b[1;32m    202\u001b[0m \u001b[0;34m\u001b[0m\u001b[0m\n\u001b[1;32m    203\u001b[0m         \u001b[0;31m# This has to be done as an assignment, not using self.children.append,\u001b[0m\u001b[0;34m\u001b[0m\u001b[0;34m\u001b[0m\u001b[0;34m\u001b[0m\u001b[0m\n",
      "\u001b[0;32m~/.pyenv/versions/3.8.10/lib/python3.8/site-packages/ipywidgets/widgets/interaction.py\u001b[0m in \u001b[0;36mwidgets_from_abbreviations\u001b[0;34m(self, seq)\u001b[0m\n\u001b[1;32m    296\u001b[0m         \u001b[0mresult\u001b[0m \u001b[0;34m=\u001b[0m \u001b[0;34m[\u001b[0m\u001b[0;34m]\u001b[0m\u001b[0;34m\u001b[0m\u001b[0;34m\u001b[0m\u001b[0m\n\u001b[1;32m    297\u001b[0m         \u001b[0;32mfor\u001b[0m \u001b[0mname\u001b[0m\u001b[0;34m,\u001b[0m \u001b[0mabbrev\u001b[0m\u001b[0;34m,\u001b[0m \u001b[0mdefault\u001b[0m \u001b[0;32min\u001b[0m \u001b[0mseq\u001b[0m\u001b[0;34m:\u001b[0m\u001b[0;34m\u001b[0m\u001b[0;34m\u001b[0m\u001b[0m\n\u001b[0;32m--> 298\u001b[0;31m             \u001b[0mwidget\u001b[0m \u001b[0;34m=\u001b[0m \u001b[0mself\u001b[0m\u001b[0;34m.\u001b[0m\u001b[0mwidget_from_abbrev\u001b[0m\u001b[0;34m(\u001b[0m\u001b[0mabbrev\u001b[0m\u001b[0;34m,\u001b[0m \u001b[0mdefault\u001b[0m\u001b[0;34m)\u001b[0m\u001b[0;34m\u001b[0m\u001b[0;34m\u001b[0m\u001b[0m\n\u001b[0m\u001b[1;32m    299\u001b[0m             \u001b[0;32mif\u001b[0m \u001b[0;32mnot\u001b[0m \u001b[0;34m(\u001b[0m\u001b[0misinstance\u001b[0m\u001b[0;34m(\u001b[0m\u001b[0mwidget\u001b[0m\u001b[0;34m,\u001b[0m \u001b[0mValueWidget\u001b[0m\u001b[0;34m)\u001b[0m \u001b[0;32mor\u001b[0m \u001b[0misinstance\u001b[0m\u001b[0;34m(\u001b[0m\u001b[0mwidget\u001b[0m\u001b[0;34m,\u001b[0m \u001b[0mfixed\u001b[0m\u001b[0;34m)\u001b[0m\u001b[0;34m)\u001b[0m\u001b[0;34m:\u001b[0m\u001b[0;34m\u001b[0m\u001b[0;34m\u001b[0m\u001b[0m\n\u001b[1;32m    300\u001b[0m                 \u001b[0;32mif\u001b[0m \u001b[0mwidget\u001b[0m \u001b[0;32mis\u001b[0m \u001b[0;32mNone\u001b[0m\u001b[0;34m:\u001b[0m\u001b[0;34m\u001b[0m\u001b[0;34m\u001b[0m\u001b[0m\n",
      "\u001b[0;32m~/.pyenv/versions/3.8.10/lib/python3.8/site-packages/ipywidgets/widgets/interaction.py\u001b[0m in \u001b[0;36mwidget_from_abbrev\u001b[0;34m(cls, abbrev, default)\u001b[0m\n\u001b[1;32m    332\u001b[0m         \u001b[0;31m# tuple should be handled before, that is why we check this case last.\u001b[0m\u001b[0;34m\u001b[0m\u001b[0;34m\u001b[0m\u001b[0;34m\u001b[0m\u001b[0m\n\u001b[1;32m    333\u001b[0m         \u001b[0;32mif\u001b[0m \u001b[0misinstance\u001b[0m\u001b[0;34m(\u001b[0m\u001b[0mabbrev\u001b[0m\u001b[0;34m,\u001b[0m \u001b[0mIterable\u001b[0m\u001b[0;34m)\u001b[0m\u001b[0;34m:\u001b[0m\u001b[0;34m\u001b[0m\u001b[0;34m\u001b[0m\u001b[0m\n\u001b[0;32m--> 334\u001b[0;31m             \u001b[0mwidget\u001b[0m \u001b[0;34m=\u001b[0m \u001b[0mcls\u001b[0m\u001b[0;34m.\u001b[0m\u001b[0mwidget_from_iterable\u001b[0m\u001b[0;34m(\u001b[0m\u001b[0mabbrev\u001b[0m\u001b[0;34m)\u001b[0m\u001b[0;34m\u001b[0m\u001b[0;34m\u001b[0m\u001b[0m\n\u001b[0m\u001b[1;32m    335\u001b[0m             \u001b[0;32mif\u001b[0m \u001b[0mdefault\u001b[0m \u001b[0;32mis\u001b[0m \u001b[0;32mnot\u001b[0m \u001b[0mempty\u001b[0m\u001b[0;34m:\u001b[0m\u001b[0;34m\u001b[0m\u001b[0;34m\u001b[0m\u001b[0m\n\u001b[1;32m    336\u001b[0m                 \u001b[0;32mtry\u001b[0m\u001b[0;34m:\u001b[0m\u001b[0;34m\u001b[0m\u001b[0;34m\u001b[0m\u001b[0m\n",
      "\u001b[0;32m~/.pyenv/versions/3.8.10/lib/python3.8/site-packages/ipywidgets/widgets/interaction.py\u001b[0m in \u001b[0;36mwidget_from_iterable\u001b[0;34m(o)\u001b[0m\n\u001b[1;32m    392\u001b[0m             \u001b[0;32mreturn\u001b[0m \u001b[0mDropdown\u001b[0m\u001b[0;34m(\u001b[0m\u001b[0moptions\u001b[0m\u001b[0;34m=\u001b[0m\u001b[0mlist\u001b[0m\u001b[0;34m(\u001b[0m\u001b[0mo\u001b[0m\u001b[0;34m.\u001b[0m\u001b[0mitems\u001b[0m\u001b[0;34m(\u001b[0m\u001b[0;34m)\u001b[0m\u001b[0;34m)\u001b[0m\u001b[0;34m)\u001b[0m\u001b[0;34m\u001b[0m\u001b[0;34m\u001b[0m\u001b[0m\n\u001b[1;32m    393\u001b[0m         \u001b[0;32melse\u001b[0m\u001b[0;34m:\u001b[0m\u001b[0;34m\u001b[0m\u001b[0;34m\u001b[0m\u001b[0m\n\u001b[0;32m--> 394\u001b[0;31m             \u001b[0;32mreturn\u001b[0m \u001b[0mDropdown\u001b[0m\u001b[0;34m(\u001b[0m\u001b[0moptions\u001b[0m\u001b[0;34m=\u001b[0m\u001b[0mlist\u001b[0m\u001b[0;34m(\u001b[0m\u001b[0mo\u001b[0m\u001b[0;34m)\u001b[0m\u001b[0;34m)\u001b[0m\u001b[0;34m\u001b[0m\u001b[0;34m\u001b[0m\u001b[0m\n\u001b[0m\u001b[1;32m    395\u001b[0m \u001b[0;34m\u001b[0m\u001b[0m\n\u001b[1;32m    396\u001b[0m     \u001b[0;31m# Return a factory for interactive functions\u001b[0m\u001b[0;34m\u001b[0m\u001b[0;34m\u001b[0m\u001b[0;34m\u001b[0m\u001b[0m\n",
      "\u001b[0;32m~/.pyenv/versions/3.8.10/lib/python3.8/site-packages/pandas/core/arrays/datetimes.py\u001b[0m in \u001b[0;36m__iter__\u001b[0;34m(self)\u001b[0m\n\u001b[1;32m    618\u001b[0m                     \u001b[0mstart_i\u001b[0m \u001b[0;34m=\u001b[0m \u001b[0mi\u001b[0m \u001b[0;34m*\u001b[0m \u001b[0mchunksize\u001b[0m\u001b[0;34m\u001b[0m\u001b[0;34m\u001b[0m\u001b[0m\n\u001b[1;32m    619\u001b[0m                     \u001b[0mend_i\u001b[0m \u001b[0;34m=\u001b[0m \u001b[0mmin\u001b[0m\u001b[0;34m(\u001b[0m\u001b[0;34m(\u001b[0m\u001b[0mi\u001b[0m \u001b[0;34m+\u001b[0m \u001b[0;36m1\u001b[0m\u001b[0;34m)\u001b[0m \u001b[0;34m*\u001b[0m \u001b[0mchunksize\u001b[0m\u001b[0;34m,\u001b[0m \u001b[0mlength\u001b[0m\u001b[0;34m)\u001b[0m\u001b[0;34m\u001b[0m\u001b[0;34m\u001b[0m\u001b[0m\n\u001b[0;32m--> 620\u001b[0;31m                     converted = ints_to_pydatetime(\n\u001b[0m\u001b[1;32m    621\u001b[0m                         \u001b[0mdata\u001b[0m\u001b[0;34m[\u001b[0m\u001b[0mstart_i\u001b[0m\u001b[0;34m:\u001b[0m\u001b[0mend_i\u001b[0m\u001b[0;34m]\u001b[0m\u001b[0;34m,\u001b[0m \u001b[0mtz\u001b[0m\u001b[0;34m=\u001b[0m\u001b[0mself\u001b[0m\u001b[0;34m.\u001b[0m\u001b[0mtz\u001b[0m\u001b[0;34m,\u001b[0m \u001b[0mfreq\u001b[0m\u001b[0;34m=\u001b[0m\u001b[0mself\u001b[0m\u001b[0;34m.\u001b[0m\u001b[0mfreq\u001b[0m\u001b[0;34m,\u001b[0m \u001b[0mbox\u001b[0m\u001b[0;34m=\u001b[0m\u001b[0;34m\"timestamp\"\u001b[0m\u001b[0;34m\u001b[0m\u001b[0;34m\u001b[0m\u001b[0m\n\u001b[1;32m    622\u001b[0m                     )\n",
      "\u001b[0;31mKeyboardInterrupt\u001b[0m: "
     ]
    }
   ],
   "source": [
    "def display_sensor_data(start, end):\n",
    "    #for group in sensor_data:\n",
    "    #    data_subset = sensor_data[group]\n",
    "    #    data_subset = data_subset[(data_subset.index >= start) & (data_subset.index <= end)]\n",
    "    #    if group == \"positions\":\n",
    "    #        plt.plot(data_subset[\"lon\"], data_subset[\"lat\"])\n",
    "    #    else:\n",
    "    #        plt.plot(data_subset[data_subset.columns])\n",
    "    #    plt.title(group)\n",
    "    #    plt.xticks(rotation=45)\n",
    "    #    plt.show()\n",
    "    data_subset = sensor_data[\"pressure\"]\n",
    "    data_subset = data_subset[(data_subset.index >= start) & (data_subset.index <= end)]\n",
    "    if group == \"positions\":\n",
    "        plt.plot(data_subset[\"lon\"], data_subset[\"lat\"])\n",
    "    else:\n",
    "        plt.plot(data_subset[data_subset.columns])\n",
    "    plt.title(group)\n",
    "    plt.xticks(rotation=45)\n",
    "    plt.show()\n",
    "\n",
    "\n",
    "@interact\n",
    "def slice_sensor_data(start=sensor_data[\"pressure\"].index, end=sensor_data[\"pressure\"].index):\n",
    "    display_sensor_data(start, end)\n",
    "\n"
   ]
  },
  {
   "cell_type": "code",
   "execution_count": null,
   "id": "8af6f57a",
   "metadata": {},
   "outputs": [],
   "source": []
  },
  {
   "cell_type": "code",
   "execution_count": 22,
   "id": "e47412e0",
   "metadata": {},
   "outputs": [
    {
     "data": {
      "image/png": "[encoded data removed]",
      "text/plain": [
       "<Figure size 432x288 with 1 Axes>"
      ]
     },
     "metadata": {
      "needs_background": "light"
     },
     "output_type": "display_data"
    },
    {
     "data": {
      "image/png": "[encoded data removed]",
      "text/plain": [
       "<Figure size 432x288 with 1 Axes>"
      ]
     },
     "metadata": {
      "needs_background": "light"
     },
     "output_type": "display_data"
    },
    {
     "data": {
      "image/png": "[encoded data removed]",
      "text/plain": [
       "<Figure size 432x288 with 1 Axes>"
      ]
     },
     "metadata": {
      "needs_background": "light"
     },
     "output_type": "display_data"
    }
   ],
   "source": [
    "group = \"positions\"\n",
    "data_subset = sensor_data[group]\n",
    "#data_subset = data_subset[(data_subset.index >= pd.Timestamp('2022-08-23T0520')) & (data_subset.index <= pd.Timestamp('2022-08-23T0930'))]\n",
    "#data_subset = data_subset[(data_subset.index >= pd.Timestamp('2022-08-24T0520'))]\n",
    "data_subset = data_subset[(data_subset[\"lat\"] < 40.81) & (data_subset[\"lon\"] > 40.0)]\n",
    "if group == \"positions\":\n",
    "    #plt.scatter(data_subset[\"lon\"], data_subset[\"lat\"])\n",
    "    plt.plot(data_subset[\"lat\"])\n",
    "    plt.show()\n",
    "    plt.plot(data_subset[\"lon\"])\n",
    "    plt.show()\n",
    "else:\n",
    "    plt.plot(data_subset[data_subset.columns])\n",
    "plt.title(group)\n",
    "plt.xticks(rotation=45)\n",
    "plt.show()\n"
   ]
  },
  {
   "cell_type": "code",
   "execution_count": 14,
   "id": "6328683d",
   "metadata": {},
   "outputs": [
    {
     "data": {
      "text/html": [
       "<div>\n",
       "<style scoped>\n",
       "    .dataframe tbody tr th:only-of-type {\n",
       "        vertical-align: middle;\n",
       "    }\n",
       "\n",
       "    .dataframe tbody tr th {\n",
       "        vertical-align: top;\n",
       "    }\n",
       "\n",
       "    .dataframe thead th {\n",
       "        text-align: right;\n",
       "    }\n",
       "</style>\n",
       "<table border=\"1\" class=\"dataframe\">\n",
       "  <thead>\n",
       "    <tr style=\"text-align: right;\">\n",
       "      <th></th>\n",
       "      <th>lat</th>\n",
       "      <th>lon</th>\n",
       "      <th>alt</th>\n",
       "    </tr>\n",
       "    <tr>\n",
       "      <th>timestamp</th>\n",
       "      <th></th>\n",
       "      <th></th>\n",
       "      <th></th>\n",
       "    </tr>\n",
       "  </thead>\n",
       "  <tbody>\n",
       "    <tr>\n",
       "      <th>2022-08-17 03:09:29.067942</th>\n",
       "      <td>37.850341</td>\n",
       "      <td>-122.253912</td>\n",
       "      <td>76.997</td>\n",
       "    </tr>\n",
       "    <tr>\n",
       "      <th>2022-08-17 03:15:50.304166</th>\n",
       "      <td>37.850351</td>\n",
       "      <td>-122.253888</td>\n",
       "      <td>66.996</td>\n",
       "    </tr>\n",
       "    <tr>\n",
       "      <th>2022-08-17 03:54:22.330026</th>\n",
       "      <td>37.850361</td>\n",
       "      <td>-122.253845</td>\n",
       "      <td>56.929</td>\n",
       "    </tr>\n",
       "    <tr>\n",
       "      <th>2022-08-17 03:54:56.322874</th>\n",
       "      <td>37.850371</td>\n",
       "      <td>-122.253860</td>\n",
       "      <td>46.463</td>\n",
       "    </tr>\n",
       "    <tr>\n",
       "      <th>2022-08-17 03:55:46.319916</th>\n",
       "      <td>37.850381</td>\n",
       "      <td>-122.253848</td>\n",
       "      <td>56.537</td>\n",
       "    </tr>\n",
       "    <tr>\n",
       "      <th>...</th>\n",
       "      <td>...</td>\n",
       "      <td>...</td>\n",
       "      <td>...</td>\n",
       "    </tr>\n",
       "    <tr>\n",
       "      <th>2022-08-24 19:21:39.814534</th>\n",
       "      <td>40.785245</td>\n",
       "      <td>-119.217555</td>\n",
       "      <td>1177.708</td>\n",
       "    </tr>\n",
       "    <tr>\n",
       "      <th>2022-08-24 19:22:14.820007</th>\n",
       "      <td>40.785255</td>\n",
       "      <td>-119.217564</td>\n",
       "      <td>1187.726</td>\n",
       "    </tr>\n",
       "    <tr>\n",
       "      <th>2022-08-24 19:24:45.835646</th>\n",
       "      <td>40.785265</td>\n",
       "      <td>-119.217555</td>\n",
       "      <td>1197.770</td>\n",
       "    </tr>\n",
       "    <tr>\n",
       "      <th>2022-08-24 19:26:46.792982</th>\n",
       "      <td>40.785275</td>\n",
       "      <td>-119.217539</td>\n",
       "      <td>1207.779</td>\n",
       "    </tr>\n",
       "    <tr>\n",
       "      <th>2022-08-24 19:36:04.809850</th>\n",
       "      <td>40.785285</td>\n",
       "      <td>-119.217506</td>\n",
       "      <td>1197.533</td>\n",
       "    </tr>\n",
       "  </tbody>\n",
       "</table>\n",
       "<p>236031 rows × 3 columns</p>\n",
       "</div>"
      ],
      "text/plain": [
       "                                  lat         lon       alt\n",
       "timestamp                                                  \n",
       "2022-08-17 03:09:29.067942  37.850341 -122.253912    76.997\n",
       "2022-08-17 03:15:50.304166  37.850351 -122.253888    66.996\n",
       "2022-08-17 03:54:22.330026  37.850361 -122.253845    56.929\n",
       "2022-08-17 03:54:56.322874  37.850371 -122.253860    46.463\n",
       "2022-08-17 03:55:46.319916  37.850381 -122.253848    56.537\n",
       "...                               ...         ...       ...\n",
       "2022-08-24 19:21:39.814534  40.785245 -119.217555  1177.708\n",
       "2022-08-24 19:22:14.820007  40.785255 -119.217564  1187.726\n",
       "2022-08-24 19:24:45.835646  40.785265 -119.217555  1197.770\n",
       "2022-08-24 19:26:46.792982  40.785275 -119.217539  1207.779\n",
       "2022-08-24 19:36:04.809850  40.785285 -119.217506  1197.533\n",
       "\n",
       "[236031 rows x 3 columns]"
      ]
     },
     "execution_count": 14,
     "metadata": {},
     "output_type": "execute_result"
    }
   ],
   "source": [
    "sensor_data[\"positions\"].sort_index()"
   ]
  },
  {
   "cell_type": "code",
   "execution_count": null,
   "id": "a31f0e15",
   "metadata": {},
   "outputs": [],
   "source": []
  }
 ],
 "metadata": {
  "kernelspec": {
   "display_name": "Python 3 (ipykernel)",
   "language": "python",
   "name": "python3"
  },
  "language_info": {
   "codemirror_mode": {
    "name": "ipython",
    "version": 3
   },
   "file_extension": ".py",
   "mimetype": "text/x-python",
   "name": "python",
   "nbconvert_exporter": "python",
   "pygments_lexer": "ipython3",
   "version": "3.8.10"
  }
 },
 "nbformat": 4,
 "nbformat_minor": 5
}

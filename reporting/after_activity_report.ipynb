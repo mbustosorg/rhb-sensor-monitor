{
 "cells": [
  {
   "cell_type": "code",
   "execution_count": 3,
   "id": "cc3782b3",
   "metadata": {},
   "outputs": [],
   "source": [
    "import os\n",
    "import random\n",
    "\n",
    "import ipywidgets as widgets\n",
    "from ipywidgets import interact, interact_manual\n",
    "import matplotlib.pyplot as plt\n",
    "import pandas as pd"
   ]
  },
  {
   "cell_type": "markdown",
   "id": "2e278928",
   "metadata": {},
   "source": [
    "## Get Data Streams"
   ]
  },
  {
   "cell_type": "code",
   "execution_count": 4,
   "id": "3ea7fb36",
   "metadata": {},
   "outputs": [],
   "source": [
    "DATA_ROOT = \"/Users/mauricio/Documents/development/projects/rhb-sensor-monitor/data\"\n",
    "\n",
    "file_list = os.listdir(DATA_ROOT)\n",
    "file_list.sort()\n",
    "file_groups = {}\n",
    "\n",
    "for file in file_list:\n",
    "    file_group = file.split(\"_\")[0]\n",
    "    if file_group not in file_groups:\n",
    "        file_groups[file_group] = []\n",
    "    file_groups[file_group].append(file)\n",
    "\n",
    "sensor_data = {}\n",
    "\n",
    "for file_group in file_groups:\n",
    "    if file_group == \"disk\":\n",
    "        continue\n",
    "    if file_group == \"heading\":\n",
    "        continue\n",
    "    files = file_groups[file_group]\n",
    "    for file in files:\n",
    "        try:\n",
    "            file_data = pd.read_csv(os.path.join(DATA_ROOT, file), parse_dates=[\"timestamp\"])\n",
    "            #file_data[\"x_tick\"] = file_data[\"timestamp\"].apply(lambda x: x.strftime(\"%H:%M\"))\n",
    "            file_data = file_data.set_index(\"timestamp\")\n",
    "            if file_group not in sensor_data:\n",
    "                sensor_data[file_group] = file_data\n",
    "            else:\n",
    "                sensor_data[file_group] = pd.concat([sensor_data[file_group], file_data])  \n",
    "        except:\n",
    "            pass"
   ]
  },
  {
   "cell_type": "markdown",
   "id": "884be7a0",
   "metadata": {},
   "source": [
    "## Generate Sample Position Data"
   ]
  },
  {
   "cell_type": "code",
   "execution_count": 19,
   "id": "bc8325ac",
   "metadata": {},
   "outputs": [],
   "source": [
    "#initial = 0.0\n",
    "#sample = []\n",
    "#for i in range(sensor_data[\"positions\"][\"lat\"].shape[0]):\n",
    "#    sample.append(initial)\n",
    "#    initial = initial + random.randrange(-1.0, 1.0)\n",
    "#sensor_data[\"positions\"][\"lat\"] = sensor_data[\"positions\"][\"lat\"] + sample\n",
    "#initial = 0.0\n",
    "#sample = []\n",
    "#for i in range(sensor_data[\"positions\"][\"lat\"].shape[0]):\n",
    "#    sample.append(initial)\n",
    "#    initial = initial + random.randrange(-1.0, 1.0)\n",
    "#sensor_data[\"positions\"][\"lon\"] = sensor_data[\"positions\"][\"lon\"] + sample"
   ]
  },
  {
   "cell_type": "code",
   "execution_count": 20,
   "id": "61a37aef",
   "metadata": {},
   "outputs": [
    {
     "data": {
      "text/plain": [
       "{'positions':                                   lat         lon       alt\n",
       " timestamp                                                  \n",
       " 2022-08-25 00:32:08.776145  37.850271 -122.253942    67.266\n",
       " 2022-08-25 00:32:25.764886  37.850282 -122.253946    70.468\n",
       " 2022-08-25 00:32:39.785812  37.850292 -122.253947    70.479\n",
       " 2022-08-25 00:32:56.773587  37.850303 -122.253940    71.988\n",
       " 2022-08-25 00:33:03.786308  37.850312 -122.253930    70.999\n",
       " ...                               ...         ...       ...\n",
       " 2023-09-04 00:19:23.976514  40.779028 -119.216973  1191.928\n",
       " 2023-09-04 00:19:39.978074  40.779005 -119.216975  1197.103\n",
       " 2023-09-04 00:22:47.024747  40.778999 -119.216960  1191.765\n",
       " 2023-09-04 00:23:56.043689  40.778983 -119.216986  1196.767\n",
       " 2023-09-04 00:25:53.047877  40.779003 -119.216986  1191.662\n",
       " \n",
       " [38697 rows x 3 columns],\n",
       " 'pressure':                              level\n",
       " timestamp                         \n",
       " 2022-08-24 23:42:41.525759   -2043\n",
       " 2022-08-25 00:32:07.800036   -2049\n",
       " 2022-08-25 01:02:07.880170   -2008\n",
       " 2023-03-29 01:46:24.938803   -1988\n",
       " 2023-03-29 02:06:02.400797   -1977\n",
       " ...                            ...\n",
       " 2023-09-04 00:26:23.905766  31.755\n",
       " 2023-09-04 00:26:24.005048  31.785\n",
       " 2023-09-04 00:26:24.103549   32.02\n",
       " 2023-09-04 00:26:24.202484   32.11\n",
       " 2023-09-04 00:26:24.300015   31.89\n",
       " \n",
       " [1945766 rows x 1 columns],\n",
       " 'temp':                              temp_f  temp_cpu\n",
       " timestamp                                    \n",
       " 2022-08-24 23:42:41.456835  58.6616      53.0\n",
       " 2022-08-24 23:47:42.333318  58.2116      50.0\n",
       " 2022-08-25 00:32:08.741016  62.0366      51.0\n",
       " 2022-08-25 00:37:09.700082  62.4866      51.0\n",
       " 2022-08-25 00:42:10.570802  62.9366      53.0\n",
       " ...                             ...       ...\n",
       " 2023-09-04 00:26:02.568648  76.0000      53.0\n",
       " 2023-09-04 00:26:07.658240  76.0000      55.0\n",
       " 2023-09-04 00:26:12.746713  76.0000      54.0\n",
       " 2023-09-04 00:26:17.808096  76.0000      55.0\n",
       " 2023-09-04 00:26:22.893076  76.0000      54.0\n",
       " \n",
       " [58302 rows x 2 columns]}"
      ]
     },
     "execution_count": 20,
     "metadata": {},
     "output_type": "execute_result"
    }
   ],
   "source": [
    "sensor_data"
   ]
  },
  {
   "cell_type": "markdown",
   "id": "592ad59d",
   "metadata": {},
   "source": [
    "## Plot Results"
   ]
  },
  {
   "cell_type": "code",
   "execution_count": 6,
   "id": "cdd6df98",
   "metadata": {},
   "outputs": [
    {
     "data": {
      "application/vnd.jupyter.widget-view+json": {
       "model_id": "dd4c31c674334c35818bcd54063424c3",
       "version_major": 2,
       "version_minor": 0
      },
      "text/plain": [
       "interactive(children=(Dropdown(description='start', options=(Timestamp('2024-08-20 00:00:00', freq='60T'), Tim…"
      ]
     },
     "metadata": {},
     "output_type": "display_data"
    }
   ],
   "source": [
    "def display_sensor_data(start, end):\n",
    "    for group in sensor_data:\n",
    "        data_subset = sensor_data[group]\n",
    "        data_subset = data_subset[(data_subset.index >= start) & (data_subset.index <= end)]\n",
    "        if group == \"positions\":\n",
    "            plt.plot(data_subset[\"lon\"], data_subset[\"lat\"])\n",
    "        elif group == \"temp\":\n",
    "            plt.plot(data_subset[\"temp_f\"])\n",
    "        else:\n",
    "            plt.plot(data_subset[data_subset.columns])\n",
    "        plt.title(group)\n",
    "        plt.xticks(rotation=45)\n",
    "        plt.show()\n",
    "    #data_subset = sensor_data[\"pressure\"]\n",
    "    #data_subset = data_subset[(data_subset.index >= start) & (data_subset.index <= end)]\n",
    "    #if group == \"positions\":\n",
    "    #    plt.plot(data_subset[\"lon\"], data_subset[\"lat\"])\n",
    "    #else:\n",
    "    #    plt.plot(data_subset[data_subset.columns])\n",
    "    #plt.title(group)\n",
    "    #plt.xticks(rotation=45)\n",
    "    #plt.show()\n",
    "\n",
    "date_range = pd.date_range(start='8/20/2024', periods=1000, freq='60Min')\n",
    "\n",
    "@interact\n",
    "def slice_sensor_data(start=date_range, end=date_range):\n",
    "    display_sensor_data(start, end)\n",
    "\n"
   ]
  },
  {
   "cell_type": "code",
   "execution_count": null,
   "id": "8af6f57a",
   "metadata": {},
   "outputs": [],
   "source": []
  },
  {
   "cell_type": "code",
   "execution_count": 22,
   "id": "e47412e0",
   "metadata": {},
   "outputs": [
    {
     "data": {
      "image/png": "[encoded data removed]",
      "text/plain": [
       "<Figure size 432x288 with 1 Axes>"
      ]
     },
     "metadata": {
      "needs_background": "light"
     },
     "output_type": "display_data"
    },
    {
     "data": {
      "image/png": "[encoded data removed]",
      "text/plain": [
       "<Figure size 432x288 with 1 Axes>"
      ]
     },
     "metadata": {
      "needs_background": "light"
     },
     "output_type": "display_data"
    },
    {
     "data": {
      "image/png": "[encoded data removed]",
      "text/plain": [
       "<Figure size 432x288 with 1 Axes>"
      ]
     },
     "metadata": {
      "needs_background": "light"
     },
     "output_type": "display_data"
    }
   ],
   "source": [
    "group = \"positions\"\n",
    "data_subset = sensor_data[group]\n",
    "#data_subset = data_subset[(data_subset.index >= pd.Timestamp('2022-08-23T0520')) & (data_subset.index <= pd.Timestamp('2022-08-23T0930'))]\n",
    "#data_subset = data_subset[(data_subset.index >= pd.Timestamp('2022-08-24T0520'))]\n",
    "data_subset = data_subset[(data_subset[\"lat\"] < 40.81) & (data_subset[\"lon\"] > 40.0)]\n",
    "if group == \"positions\":\n",
    "    #plt.scatter(data_subset[\"lon\"], data_subset[\"lat\"])\n",
    "    plt.plot(data_subset[\"lat\"])\n",
    "    plt.show()\n",
    "    plt.plot(data_subset[\"lon\"])\n",
    "    plt.show()\n",
    "else:\n",
    "    plt.plot(data_subset[data_subset.columns])\n",
    "plt.title(group)\n",
    "plt.xticks(rotation=45)\n",
    "plt.show()\n"
   ]
  },
  {
   "cell_type": "code",
   "execution_count": 14,
   "id": "6328683d",
   "metadata": {},
   "outputs": [
    {
     "data": {
      "text/html": [
       "<div>\n",
       "<style scoped>\n",
       "    .dataframe tbody tr th:only-of-type {\n",
       "        vertical-align: middle;\n",
       "    }\n",
       "\n",
       "    .dataframe tbody tr th {\n",
       "        vertical-align: top;\n",
       "    }\n",
       "\n",
       "    .dataframe thead th {\n",
       "        text-align: right;\n",
       "    }\n",
       "</style>\n",
       "<table border=\"1\" class=\"dataframe\">\n",
       "  <thead>\n",
       "    <tr style=\"text-align: right;\">\n",
       "      <th></th>\n",
       "      <th>lat</th>\n",
       "      <th>lon</th>\n",
       "      <th>alt</th>\n",
       "    </tr>\n",
       "    <tr>\n",
       "      <th>timestamp</th>\n",
       "      <th></th>\n",
       "      <th></th>\n",
       "      <th></th>\n",
       "    </tr>\n",
       "  </thead>\n",
       "  <tbody>\n",
       "    <tr>\n",
       "      <th>2022-08-17 03:09:29.067942</th>\n",
       "      <td>37.850341</td>\n",
       "      <td>-122.253912</td>\n",
       "      <td>76.997</td>\n",
       "    </tr>\n",
       "    <tr>\n",
       "      <th>2022-08-17 03:15:50.304166</th>\n",
       "      <td>37.850351</td>\n",
       "      <td>-122.253888</td>\n",
       "      <td>66.996</td>\n",
       "    </tr>\n",
       "    <tr>\n",
       "      <th>2022-08-17 03:54:22.330026</th>\n",
       "      <td>37.850361</td>\n",
       "      <td>-122.253845</td>\n",
       "      <td>56.929</td>\n",
       "    </tr>\n",
       "    <tr>\n",
       "      <th>2022-08-17 03:54:56.322874</th>\n",
       "      <td>37.850371</td>\n",
       "      <td>-122.253860</td>\n",
       "      <td>46.463</td>\n",
       "    </tr>\n",
       "    <tr>\n",
       "      <th>2022-08-17 03:55:46.319916</th>\n",
       "      <td>37.850381</td>\n",
       "      <td>-122.253848</td>\n",
       "      <td>56.537</td>\n",
       "    </tr>\n",
       "    <tr>\n",
       "      <th>...</th>\n",
       "      <td>...</td>\n",
       "      <td>...</td>\n",
       "      <td>...</td>\n",
       "    </tr>\n",
       "    <tr>\n",
       "      <th>2022-08-24 19:21:39.814534</th>\n",
       "      <td>40.785245</td>\n",
       "      <td>-119.217555</td>\n",
       "      <td>1177.708</td>\n",
       "    </tr>\n",
       "    <tr>\n",
       "      <th>2022-08-24 19:22:14.820007</th>\n",
       "      <td>40.785255</td>\n",
       "      <td>-119.217564</td>\n",
       "      <td>1187.726</td>\n",
       "    </tr>\n",
       "    <tr>\n",
       "      <th>2022-08-24 19:24:45.835646</th>\n",
       "      <td>40.785265</td>\n",
       "      <td>-119.217555</td>\n",
       "      <td>1197.770</td>\n",
       "    </tr>\n",
       "    <tr>\n",
       "      <th>2022-08-24 19:26:46.792982</th>\n",
       "      <td>40.785275</td>\n",
       "      <td>-119.217539</td>\n",
       "      <td>1207.779</td>\n",
       "    </tr>\n",
       "    <tr>\n",
       "      <th>2022-08-24 19:36:04.809850</th>\n",
       "      <td>40.785285</td>\n",
       "      <td>-119.217506</td>\n",
       "      <td>1197.533</td>\n",
       "    </tr>\n",
       "  </tbody>\n",
       "</table>\n",
       "<p>236031 rows × 3 columns</p>\n",
       "</div>"
      ],
      "text/plain": [
       "                                  lat         lon       alt\n",
       "timestamp                                                  \n",
       "2022-08-17 03:09:29.067942  37.850341 -122.253912    76.997\n",
       "2022-08-17 03:15:50.304166  37.850351 -122.253888    66.996\n",
       "2022-08-17 03:54:22.330026  37.850361 -122.253845    56.929\n",
       "2022-08-17 03:54:56.322874  37.850371 -122.253860    46.463\n",
       "2022-08-17 03:55:46.319916  37.850381 -122.253848    56.537\n",
       "...                               ...         ...       ...\n",
       "2022-08-24 19:21:39.814534  40.785245 -119.217555  1177.708\n",
       "2022-08-24 19:22:14.820007  40.785255 -119.217564  1187.726\n",
       "2022-08-24 19:24:45.835646  40.785265 -119.217555  1197.770\n",
       "2022-08-24 19:26:46.792982  40.785275 -119.217539  1207.779\n",
       "2022-08-24 19:36:04.809850  40.785285 -119.217506  1197.533\n",
       "\n",
       "[236031 rows x 3 columns]"
      ]
     },
     "execution_count": 14,
     "metadata": {},
     "output_type": "execute_result"
    }
   ],
   "source": [
    "sensor_data[\"positions\"].sort_index()"
   ]
  },
  {
   "cell_type": "code",
   "execution_count": null,
   "id": "a31f0e15",
   "metadata": {},
   "outputs": [],
   "source": []
  }
 ],
 "metadata": {
  "kernelspec": {
   "display_name": "Python 3 (ipykernel)",
   "language": "python",
   "name": "python3"
  },
  "language_info": {
   "codemirror_mode": {
    "name": "ipython",
    "version": 3
   },
   "file_extension": ".py",
   "mimetype": "text/x-python",
   "name": "python",
   "nbconvert_exporter": "python",
   "pygments_lexer": "ipython3",
   "version": "3.8.10"
  }
 },
 "nbformat": 4,
 "nbformat_minor": 5
}

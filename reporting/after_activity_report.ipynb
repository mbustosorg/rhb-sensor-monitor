{
 "cells": [
  {
   "cell_type": "code",
   "execution_count": 1,
   "id": "cc3782b3",
   "metadata": {},
   "outputs": [],
   "source": [
    "import os\n",
    "import random\n",
    "\n",
    "import ipywidgets as widgets\n",
    "from ipywidgets import interact, interact_manual\n",
    "import matplotlib.pyplot as plt\n",
    "import pandas as pd"
   ]
  },
  {
   "cell_type": "markdown",
   "id": "2e278928",
   "metadata": {},
   "source": [
    "## Get Data Streams"
   ]
  },
  {
   "cell_type": "code",
   "execution_count": 2,
   "id": "3ea7fb36",
   "metadata": {},
   "outputs": [],
   "source": [
    "DATA_ROOT = \"/home/mauricio/data\"\n",
    "\n",
    "file_list = os.listdir(DATA_ROOT)\n",
    "file_list.sort()\n",
    "file_groups = {}\n",
    "\n",
    "for file in file_list:\n",
    "    file_group = file.split(\"_\")[0]\n",
    "    if file_group not in file_groups:\n",
    "        file_groups[file_group] = []\n",
    "    file_groups[file_group].append(file)\n",
    "\n",
    "sensor_data = {}\n",
    "\n",
    "for file_group in file_groups:\n",
    "    files = file_groups[file_group]\n",
    "    for file in files:\n",
    "        file_data = pd.read_csv(os.path.join(DATA_ROOT, file), parse_dates=[\"timestamp\"])\n",
    "        #file_data[\"x_tick\"] = file_data[\"timestamp\"].apply(lambda x: x.strftime(\"%H:%M\"))\n",
    "        file_data = file_data.set_index(\"timestamp\")\n",
    "        if file_group not in sensor_data:\n",
    "            sensor_data[file_group] = file_data\n",
    "        else:\n",
    "            sensor_data[file_group] = pd.concat([sensor_data[file_group], file_data])   "
   ]
  },
  {
   "cell_type": "markdown",
   "id": "884be7a0",
   "metadata": {},
   "source": [
    "## Generate Sample Position Data"
   ]
  },
  {
   "cell_type": "code",
   "execution_count": 3,
   "id": "bc8325ac",
   "metadata": {},
   "outputs": [],
   "source": [
    "initial = 0.0\n",
    "sample = []\n",
    "for i in range(sensor_data[\"positions\"][\"lat\"].shape[0]):\n",
    "    sample.append(initial)\n",
    "    initial = initial + random.randrange(-1.0, 1.0)\n",
    "sensor_data[\"positions\"][\"lat\"] = sensor_data[\"positions\"][\"lat\"] + sample\n",
    "initial = 0.0\n",
    "sample = []\n",
    "for i in range(sensor_data[\"positions\"][\"lat\"].shape[0]):\n",
    "    sample.append(initial)\n",
    "    initial = initial + random.randrange(-1.0, 1.0)\n",
    "sensor_data[\"positions\"][\"lon\"] = sensor_data[\"positions\"][\"lon\"] + sample"
   ]
  },
  {
   "cell_type": "markdown",
   "id": "592ad59d",
   "metadata": {},
   "source": [
    "## Plot Results"
   ]
  },
  {
   "cell_type": "code",
   "execution_count": 20,
   "id": "cdd6df98",
   "metadata": {},
   "outputs": [
    {
     "data": {
      "application/vnd.jupyter.widget-view+json": {
       "model_id": "a4d5b8c1113b40e8aeeee5816343b652",
       "version_major": 2,
       "version_minor": 0
      },
      "text/plain": [
       "interactive(children=(Dropdown(description='start', options=(Timestamp('2022-07-02 20:51:08.496993'), Timestam…"
      ]
     },
     "metadata": {},
     "output_type": "display_data"
    }
   ],
   "source": [
    "def display_sensor_data(start, end):\n",
    "    for group in sensor_data:\n",
    "        data_subset = sensor_data[group]\n",
    "        data_subset = data_subset[(data_subset.index >= start) & (data_subset.index <= end)]\n",
    "        if group == \"positions\":\n",
    "            plt.plot(data_subset[\"lon\"], data_subset[\"lat\"])\n",
    "        else:\n",
    "            plt.plot(data_subset[data_subset.columns])\n",
    "        plt.title(group)\n",
    "        plt.xticks(rotation=45)\n",
    "        plt.show()\n",
    "\n",
    "\n",
    "@interact\n",
    "def slice_sensor_data(start=sensor_data[\"pressure\"].index, end=sensor_data[\"pressure\"].index):\n",
    "    display_sensor_data(start, end)\n",
    "\n"
   ]
  },
  {
   "cell_type": "code",
   "execution_count": null,
   "id": "e47412e0",
   "metadata": {},
   "outputs": [],
   "source": []
  }
 ],
 "metadata": {
  "kernelspec": {
   "display_name": "Python 3 (ipykernel)",
   "language": "python",
   "name": "python3"
  },
  "language_info": {
   "codemirror_mode": {
    "name": "ipython",
    "version": 3
   },
   "file_extension": ".py",
   "mimetype": "text/x-python",
   "name": "python",
   "nbconvert_exporter": "python",
   "pygments_lexer": "ipython3",
   "version": "3.9.2"
  }
 },
 "nbformat": 4,
 "nbformat_minor": 5
}
